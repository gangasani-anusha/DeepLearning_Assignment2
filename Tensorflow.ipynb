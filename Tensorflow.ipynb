{
  "nbformat": 4,
  "nbformat_minor": 0,
  "metadata": {
    "colab": {
      "name": "Tensorflow.ipynb",
      "provenance": [],
      "collapsed_sections": [],
      "authorship_tag": "ABX9TyOzVMDx3mzvgofCDaOmnvft",
      "include_colab_link": true
    },
    "kernelspec": {
      "name": "python3",
      "display_name": "Python 3"
    },
    "language_info": {
      "name": "python"
    },
    "accelerator": "GPU"
  },
  "cells": [
    {
      "cell_type": "markdown",
      "metadata": {
        "id": "view-in-github",
        "colab_type": "text"
      },
      "source": [
        "<a href=\"https://colab.research.google.com/github/gangasani-anusha/DeepLearning_Assignment2/blob/main/Tensorflow.ipynb\" target=\"_parent\"><img src=\"https://colab.research.google.com/assets/colab-badge.svg\" alt=\"Open In Colab\"/></a>"
      ]
    },
    {
      "cell_type": "code",
      "execution_count": 1,
      "metadata": {
        "id": "GiHGd3lKwcf4"
      },
      "outputs": [],
      "source": [
        "import tensorflow as tf\n",
        "import numpy as np"
      ]
    },
    {
      "cell_type": "code",
      "source": [
        "#scalar tensor\n",
        "scalar_rank = tf.constant(10)\n",
        "print(scalar_rank)"
      ],
      "metadata": {
        "colab": {
          "base_uri": "https://localhost:8080/"
        },
        "id": "a6tJmAWPHsTz",
        "outputId": "50b260af-7b1d-4254-da3e-139a2d4f7490"
      },
      "execution_count": 3,
      "outputs": [
        {
          "output_type": "stream",
          "name": "stdout",
          "text": [
            "tf.Tensor(10, shape=(), dtype=int32)\n"
          ]
        }
      ]
    },
    {
      "cell_type": "code",
      "source": [
        "#vector tensor\n",
        "vector_rank = tf.constant([6.0, 9.0, 3.0])\n",
        "print(vector_rank)"
      ],
      "metadata": {
        "colab": {
          "base_uri": "https://localhost:8080/"
        },
        "id": "uLFKFU2gH-b_",
        "outputId": "4fd732f7-b0e3-45a4-e494-7d3865112429"
      },
      "execution_count": 5,
      "outputs": [
        {
          "output_type": "stream",
          "name": "stdout",
          "text": [
            "tf.Tensor([6. 9. 3.], shape=(3,), dtype=float32)\n"
          ]
        }
      ]
    },
    {
      "cell_type": "code",
      "source": [
        "#matrix1 tensor\n",
        "matrix1_rank = tf.constant([[3, 7],\n",
        "                             [5, 8],\n",
        "                             [6, 2]], dtype=tf.float16)\n",
        "print(matrix1_rank)"
      ],
      "metadata": {
        "colab": {
          "base_uri": "https://localhost:8080/"
        },
        "id": "98NQ7fzLIefW",
        "outputId": "edaa618d-3e42-4b02-da92-b9bdd2051bc5"
      },
      "execution_count": 7,
      "outputs": [
        {
          "output_type": "stream",
          "name": "stdout",
          "text": [
            "tf.Tensor(\n",
            "[[3. 7.]\n",
            " [5. 8.]\n",
            " [6. 2.]], shape=(3, 2), dtype=float16)\n"
          ]
        }
      ]
    },
    {
      "cell_type": "code",
      "source": [
        "#matrix2 tensor\n",
        "matrix2_rank = tf.constant([\n",
        "  [[0, 1, 2, 3, 4],\n",
        "   [5, 6, 7, 8, 9]],\n",
        "  [[10, 11, 12, 13, 14],\n",
        "   [15, 16, 17, 18, 19]],\n",
        "  [[20, 21, 22, 23, 24],\n",
        "   [25, 26, 27, 28, 29]],])\n",
        "\n",
        "print(matrix2_rank)"
      ],
      "metadata": {
        "colab": {
          "base_uri": "https://localhost:8080/"
        },
        "id": "F8ErjvhXIzTB",
        "outputId": "402afac9-015d-4d04-a977-d7c1d78b8eee"
      },
      "execution_count": 8,
      "outputs": [
        {
          "output_type": "stream",
          "name": "stdout",
          "text": [
            "tf.Tensor(\n",
            "[[[ 0  1  2  3  4]\n",
            "  [ 5  6  7  8  9]]\n",
            "\n",
            " [[10 11 12 13 14]\n",
            "  [15 16 17 18 19]]\n",
            "\n",
            " [[20 21 22 23 24]\n",
            "  [25 26 27 28 29]]], shape=(3, 2, 5), dtype=int32)\n"
          ]
        }
      ]
    },
    {
      "cell_type": "code",
      "source": [
        "np.array(matrix1_rank)"
      ],
      "metadata": {
        "colab": {
          "base_uri": "https://localhost:8080/"
        },
        "id": "e3rXzpDULQWJ",
        "outputId": "25db6357-0679-454b-9611-8b8f10174626"
      },
      "execution_count": 10,
      "outputs": [
        {
          "output_type": "execute_result",
          "data": {
            "text/plain": [
              "array([[3., 7.],\n",
              "       [5., 8.],\n",
              "       [6., 2.]], dtype=float16)"
            ]
          },
          "metadata": {},
          "execution_count": 10
        }
      ]
    },
    {
      "cell_type": "code",
      "source": [
        "matrix1_rank.numpy()"
      ],
      "metadata": {
        "colab": {
          "base_uri": "https://localhost:8080/"
        },
        "id": "_DOGpK4VLeEi",
        "outputId": "b1731591-cc60-44be-ff4d-55b50ef6008f"
      },
      "execution_count": 11,
      "outputs": [
        {
          "output_type": "execute_result",
          "data": {
            "text/plain": [
              "array([[3., 7.],\n",
              "       [5., 8.],\n",
              "       [6., 2.]], dtype=float16)"
            ]
          },
          "metadata": {},
          "execution_count": 11
        }
      ]
    },
    {
      "cell_type": "markdown",
      "source": [
        "### Math Operations"
      ],
      "metadata": {
        "id": "s93UxPs7Lz5q"
      }
    },
    {
      "cell_type": "code",
      "source": [
        "x = tf.constant([[3, 7],\n",
        "                 [5, 4]])\n",
        "y = tf.constant([[6, 1],\n",
        "                 [3, 4]]) \n",
        "\n",
        "print(tf.add(x, y), \"\\n\")\n",
        "print(tf.multiply(x, y), \"\\n\")\n",
        "print(tf.matmul(x, y), \"\\n\")"
      ],
      "metadata": {
        "colab": {
          "base_uri": "https://localhost:8080/"
        },
        "id": "YdZVSbB7LqhS",
        "outputId": "b956ee17-30fd-46b1-dba7-400b5eb81866"
      },
      "execution_count": 17,
      "outputs": [
        {
          "output_type": "stream",
          "name": "stdout",
          "text": [
            "tf.Tensor(\n",
            "[[9 8]\n",
            " [8 8]], shape=(2, 2), dtype=int32) \n",
            "\n",
            "tf.Tensor(\n",
            "[[18  7]\n",
            " [15 16]], shape=(2, 2), dtype=int32) \n",
            "\n",
            "tf.Tensor(\n",
            "[[39 31]\n",
            " [42 21]], shape=(2, 2), dtype=int32) \n",
            "\n"
          ]
        }
      ]
    },
    {
      "cell_type": "code",
      "source": [
        "print(x + y, \"\\n\") \n",
        "print(x * y, \"\\n\") \n",
        "print(x @ y, \"\\n\") "
      ],
      "metadata": {
        "colab": {
          "base_uri": "https://localhost:8080/"
        },
        "id": "AmzIJFB9MJ_2",
        "outputId": "73463923-727a-4848-c46b-35e3fcff40ee"
      },
      "execution_count": 18,
      "outputs": [
        {
          "output_type": "stream",
          "name": "stdout",
          "text": [
            "tf.Tensor(\n",
            "[[9 8]\n",
            " [8 8]], shape=(2, 2), dtype=int32) \n",
            "\n",
            "tf.Tensor(\n",
            "[[18  7]\n",
            " [15 16]], shape=(2, 2), dtype=int32) \n",
            "\n",
            "tf.Tensor(\n",
            "[[39 31]\n",
            " [42 21]], shape=(2, 2), dtype=int32) \n",
            "\n"
          ]
        }
      ]
    },
    {
      "cell_type": "code",
      "source": [
        "z = tf.constant([[3.5, 2.0], [10.0, 4.0]])\n",
        "\n",
        "# Find the largest value\n",
        "print(tf.reduce_max(z))\n",
        "# Find the index of the largest value\n",
        "print(tf.argmax(z))\n",
        "# Compute the softmax\n",
        "print(tf.nn.softmax(z))"
      ],
      "metadata": {
        "colab": {
          "base_uri": "https://localhost:8080/"
        },
        "id": "W27cea83MpKW",
        "outputId": "3f44665a-8e1d-441e-a7a9-db1b069f6a17"
      },
      "execution_count": 19,
      "outputs": [
        {
          "output_type": "stream",
          "name": "stdout",
          "text": [
            "tf.Tensor(10.0, shape=(), dtype=float32)\n",
            "tf.Tensor([1 1], shape=(2,), dtype=int64)\n",
            "tf.Tensor(\n",
            "[[0.81757444 0.18242551]\n",
            " [0.9975274  0.00247262]], shape=(2, 2), dtype=float32)\n"
          ]
        }
      ]
    },
    {
      "cell_type": "markdown",
      "source": [
        "### Shape of Tensors"
      ],
      "metadata": {
        "id": "uQRpEh-_Nu9N"
      }
    },
    {
      "cell_type": "code",
      "source": [
        "matrix1D = tf.zeros([3, 2, 4, 5])\n",
        "print(\"Type of every element:\", matrix1D.dtype)\n",
        "print(\"Number of axes:\", matrix1D.ndim)\n",
        "print(\"Shape of tensor:\", matrix1D.shape)\n",
        "print(\"Elements along axis 0 of tensor:\", matrix1D.shape[0])\n",
        "print(\"Elements along the last axis of tensor:\", matrix1D.shape[-1])\n",
        "print(\"Total number of elements (3*2*4*5): \", tf.size(matrix1D).numpy())"
      ],
      "metadata": {
        "colab": {
          "base_uri": "https://localhost:8080/"
        },
        "id": "3x9Sh4YQN_1f",
        "outputId": "b7d27652-1dbb-4246-c543-903140f6ad00"
      },
      "execution_count": 21,
      "outputs": [
        {
          "output_type": "stream",
          "name": "stdout",
          "text": [
            "Type of every element: <dtype: 'float32'>\n",
            "Number of axes: 4\n",
            "Shape of tensor: (3, 2, 4, 5)\n",
            "Elements along axis 0 of tensor: 3\n",
            "Elements along the last axis of tensor: 5\n",
            "Total number of elements (3*2*4*5):  120\n"
          ]
        }
      ]
    },
    {
      "cell_type": "markdown",
      "source": [
        "### Indexing"
      ],
      "metadata": {
        "id": "MickMtshOfVh"
      }
    },
    {
      "cell_type": "code",
      "source": [
        "a = tf.constant([7,8,9,3,45,23,12,6,4])\n",
        "print(a.numpy())"
      ],
      "metadata": {
        "colab": {
          "base_uri": "https://localhost:8080/"
        },
        "id": "vaWrwH5xOc_B",
        "outputId": "8ef4a186-ffa0-4e04-82f1-ca0ee1bc5a57"
      },
      "execution_count": 23,
      "outputs": [
        {
          "output_type": "stream",
          "name": "stdout",
          "text": [
            "[ 7  8  9  3 45 23 12  6  4]\n"
          ]
        }
      ]
    },
    {
      "cell_type": "code",
      "source": [
        "print(\"First:\", a[0].numpy())\n",
        "print(\"Second:\", a[1].numpy())\n",
        "print(\"Last:\", a[-1].numpy())"
      ],
      "metadata": {
        "colab": {
          "base_uri": "https://localhost:8080/"
        },
        "id": "rgA7YW3RO5cv",
        "outputId": "d0df2b96-edec-4dd4-f3c2-8fad5118a3cd"
      },
      "execution_count": 24,
      "outputs": [
        {
          "output_type": "stream",
          "name": "stdout",
          "text": [
            "First: 7\n",
            "Second: 8\n",
            "Last: 4\n"
          ]
        }
      ]
    },
    {
      "cell_type": "code",
      "source": [
        "#indexing with a : in slices\n",
        "print(\"Everything:\", a[:].numpy())\n",
        "print(\"Before 4:\", a[:4].numpy())\n",
        "print(\"From 4 to the end:\", a[4:].numpy())\n",
        "print(\"From 2, before 7:\", a[2:7].numpy())\n",
        "print(\"Every other item:\", a[::2].numpy())\n",
        "print(\"Reversed:\", a[::-1].numpy())"
      ],
      "metadata": {
        "colab": {
          "base_uri": "https://localhost:8080/"
        },
        "id": "QpP0vleCPTRX",
        "outputId": "c3f7a46f-05d8-404c-c5eb-7e0ccfcc2711"
      },
      "execution_count": 25,
      "outputs": [
        {
          "output_type": "stream",
          "name": "stdout",
          "text": [
            "Everything: [ 7  8  9  3 45 23 12  6  4]\n",
            "Before 4: [7 8 9 3]\n",
            "From 4 to the end: [45 23 12  6  4]\n",
            "From 2, before 7: [ 9  3 45 23 12]\n",
            "Every other item: [ 7  9 45 12  4]\n",
            "Reversed: [ 4  6 12 23 45  3  9  8  7]\n"
          ]
        }
      ]
    },
    {
      "cell_type": "code",
      "source": [
        "matrix1_rank.numpy()\n",
        "matrix1_rank[1, 1].numpy()\n",
        "\n",
        "\n",
        "\n",
        "# Get row and column tensors\n",
        "print(\"Second row:\", matrix1_rank[1, :].numpy())\n",
        "print(\"Second column:\", matrix1_rank[:, 1].numpy())\n",
        "print(\"Last row:\", matrix1_rank[-1, :].numpy())\n",
        "print(\"First item in last column:\", matrix1_rank[0, -1].numpy())\n",
        "print(\"Skip the first row:\")\n",
        "print(matrix1_rank[1:, :].numpy(), \"\\n\")\n"
      ],
      "metadata": {
        "colab": {
          "base_uri": "https://localhost:8080/"
        },
        "id": "dIVBi3OPPefQ",
        "outputId": "21149934-1795-4fb2-8052-7fa3ff00dc74"
      },
      "execution_count": 34,
      "outputs": [
        {
          "output_type": "stream",
          "name": "stdout",
          "text": [
            "Second row: [5. 8.]\n",
            "Second column: [7. 8. 2.]\n",
            "Last row: [6. 2.]\n",
            "First item in last column: 7.0\n",
            "Skip the first row:\n",
            "[[5. 8.]\n",
            " [6. 2.]] \n",
            "\n"
          ]
        }
      ]
    },
    {
      "cell_type": "code",
      "source": [
        "#3 axes tensor indexing\n",
        "print(matrix2_rank[:, :, 4])"
      ],
      "metadata": {
        "colab": {
          "base_uri": "https://localhost:8080/"
        },
        "id": "GfiK3Mu1QAme",
        "outputId": "11cf57ef-50bc-44c5-83b4-fe0a9d215d93"
      },
      "execution_count": 35,
      "outputs": [
        {
          "output_type": "stream",
          "name": "stdout",
          "text": [
            "tf.Tensor(\n",
            "[[ 4  9]\n",
            " [14 19]\n",
            " [24 29]], shape=(3, 2), dtype=int32)\n"
          ]
        }
      ]
    },
    {
      "cell_type": "markdown",
      "source": [
        "### TypeCasting with Tensors"
      ],
      "metadata": {
        "id": "SPl3-HewP1qf"
      }
    },
    {
      "cell_type": "code",
      "source": [
        "u = tf.constant([6.1, 2.4, 5.3], dtype=tf.float64)\n",
        "v = tf.cast(u, dtype=tf.float16)\n",
        "\n",
        "s = tf.cast(v, dtype=tf.uint8)\n",
        "print(s)"
      ],
      "metadata": {
        "colab": {
          "base_uri": "https://localhost:8080/"
        },
        "id": "PkdnQYigRElD",
        "outputId": "604ac020-7d9b-49d0-92d9-68cca579d872"
      },
      "execution_count": 39,
      "outputs": [
        {
          "output_type": "stream",
          "name": "stdout",
          "text": [
            "tf.Tensor([6 2 5], shape=(3,), dtype=uint8)\n"
          ]
        }
      ]
    },
    {
      "cell_type": "markdown",
      "source": [
        "### Conversions"
      ],
      "metadata": {
        "id": "CXicUqF3SC8S"
      }
    },
    {
      "cell_type": "code",
      "source": [
        "arr = np.ones([3, 3])\n",
        "\n",
        "print(\"convert numpy arrays to Tensors automatically\")\n",
        "tensor = tf.multiply(arr, 42)\n",
        "print(tensor)\n",
        "\n",
        "print(\"And NumPy operations\")\n",
        "print(np.add(tensor, 1))\n",
        "\n",
        "print(\"The .numpy() method explicitly converts\")\n",
        "print(tensor.numpy())"
      ],
      "metadata": {
        "colab": {
          "base_uri": "https://localhost:8080/"
        },
        "id": "rPwxYqHJQDdv",
        "outputId": "f93fddf5-6b84-4704-9a57-a52759189233"
      },
      "execution_count": 42,
      "outputs": [
        {
          "output_type": "stream",
          "name": "stdout",
          "text": [
            "convert numpy arrays to Tensors automatically\n",
            "tf.Tensor(\n",
            "[[42. 42. 42.]\n",
            " [42. 42. 42.]\n",
            " [42. 42. 42.]], shape=(3, 3), dtype=float64)\n",
            "And NumPy operations\n",
            "[[43. 43. 43.]\n",
            " [43. 43. 43.]\n",
            " [43. 43. 43.]]\n",
            "The .numpy() method explicitly converts\n",
            "[[42. 42. 42.]\n",
            " [42. 42. 42.]\n",
            " [42. 42. 42.]]\n"
          ]
        }
      ]
    },
    {
      "cell_type": "code",
      "source": [
        "k = tf.random.uniform([3, 3])\n",
        "\n",
        "print(\"GPU\"),\n",
        "print(tf.config.list_physical_devices(\"GPU\"))\n",
        "\n",
        "print(\"Tensor on GPU #0:  \"),\n",
        "print(k.device.endswith('GPU:0'))"
      ],
      "metadata": {
        "colab": {
          "base_uri": "https://localhost:8080/"
        },
        "id": "gVMUNNLpSZeK",
        "outputId": "1ba49dc3-c8a4-416f-8fae-353dd07c1d94"
      },
      "execution_count": 43,
      "outputs": [
        {
          "output_type": "stream",
          "name": "stdout",
          "text": [
            "GPU\n",
            "[PhysicalDevice(name='/physical_device:GPU:0', device_type='GPU')]\n",
            "Tensor on GPU #0:  \n",
            "True\n"
          ]
        }
      ]
    },
    {
      "cell_type": "code",
      "source": [
        "import time\n",
        "def time_matmul(k):\n",
        "  start = time.time()\n",
        "  for loop in range(10):\n",
        "    tf.matmul(k, k)\n",
        "\n",
        "  result = time.time()-start\n",
        "\n",
        "  print(\"10 loops: {:0.2f}ms\".format(1000*result))\n",
        "\n",
        "# Brute execution\n",
        "print(\"On CPU:\")\n",
        "with tf.device(\"CPU:0\"):\n",
        "  k = tf.random.uniform([1000, 1000])\n",
        "  assert k.device.endswith(\"CPU:0\")\n",
        "  time_matmul(k)\n",
        "\n",
        "# Brute execution\n",
        "if tf.config.list_physical_devices(\"GPU\"):\n",
        "  print(\"On GPU:\")\n",
        "  with tf.device(\"GPU:0\"):\n",
        "    k = tf.random.uniform([1000, 1000])\n",
        "    assert k.device.endswith(\"GPU:0\")\n",
        "    time_matmul(k)"
      ],
      "metadata": {
        "colab": {
          "base_uri": "https://localhost:8080/"
        },
        "id": "RMJeM2yVTADX",
        "outputId": "8b1e954a-dfc1-4152-c6bf-5db355a3d7b9"
      },
      "execution_count": 45,
      "outputs": [
        {
          "output_type": "stream",
          "name": "stdout",
          "text": [
            "On CPU:\n",
            "10 loops: 632.44ms\n",
            "On GPU:\n",
            "10 loops: 1440.68ms\n"
          ]
        }
      ]
    },
    {
      "cell_type": "markdown",
      "source": [
        "### Creating Source Dataset"
      ],
      "metadata": {
        "id": "u5O898cKTRVI"
      }
    },
    {
      "cell_type": "code",
      "source": [
        "tes = tf.data.Dataset.from_tensor_slices([1, 2, 3, 4, 5, 6])\n",
        "import tempfile\n",
        "_, filename = tempfile.mkstemp()\n",
        "\n",
        "with open(filename, 'w') as f:\n",
        "  f.write(\"\"\"Line 1\n",
        "Line 2\n",
        "Line 3\n",
        "  \"\"\")\n",
        "\n",
        "ds_file = tf.data.TextLineDataset(filename)"
      ],
      "metadata": {
        "id": "Bcpjwk0VTU1D"
      },
      "execution_count": 46,
      "outputs": []
    },
    {
      "cell_type": "code",
      "source": [
        "tes = tes.map(tf.square).shuffle(2).batch(2)\n",
        "\n",
        "ds_file = ds_file.batch(2)"
      ],
      "metadata": {
        "id": "RRdgtA_jTYMp"
      },
      "execution_count": 47,
      "outputs": []
    },
    {
      "cell_type": "code",
      "source": [
        "print('Elements of tes:')\n",
        "for k in tes:\n",
        "  print(k)\n",
        "\n",
        "print('\\nElements in ds_file:')\n",
        "for k in ds_file:\n",
        "  print(k)"
      ],
      "metadata": {
        "colab": {
          "base_uri": "https://localhost:8080/"
        },
        "id": "yIiFXARbTcfQ",
        "outputId": "9bc473ca-5873-4186-8a9d-7d545852d7cf"
      },
      "execution_count": 48,
      "outputs": [
        {
          "output_type": "stream",
          "name": "stdout",
          "text": [
            "Elements of tes:\n",
            "tf.Tensor([1 9], shape=(2,), dtype=int32)\n",
            "tf.Tensor([16  4], shape=(2,), dtype=int32)\n",
            "tf.Tensor([25 36], shape=(2,), dtype=int32)\n",
            "\n",
            "Elements in ds_file:\n",
            "tf.Tensor([b'Line 1' b'Line 2'], shape=(2,), dtype=string)\n",
            "tf.Tensor([b'Line 3' b'  '], shape=(2,), dtype=string)\n"
          ]
        }
      ]
    },
    {
      "cell_type": "markdown",
      "source": [
        "### Broadcasting"
      ],
      "metadata": {
        "id": "z1ZJU41-T49C"
      }
    },
    {
      "cell_type": "code",
      "source": [
        "x = tf.constant([1, 2, 3])\n",
        "\n",
        "y = tf.constant(2)\n",
        "z = tf.constant([2, 2, 2])\n",
        "# All of these are the same computation\n",
        "print(tf.multiply(x, 2))\n",
        "print(x * y)\n",
        "print(x * z)"
      ],
      "metadata": {
        "colab": {
          "base_uri": "https://localhost:8080/"
        },
        "id": "CoeVG4ocT_vl",
        "outputId": "54a3e909-1ee1-42f0-8c29-48aacfeb0f20"
      },
      "execution_count": 49,
      "outputs": [
        {
          "output_type": "stream",
          "name": "stdout",
          "text": [
            "tf.Tensor([2 4 6], shape=(3,), dtype=int32)\n",
            "tf.Tensor([2 4 6], shape=(3,), dtype=int32)\n",
            "tf.Tensor([2 4 6], shape=(3,), dtype=int32)\n"
          ]
        }
      ]
    },
    {
      "cell_type": "code",
      "source": [
        "x = tf.reshape(x,[3,1])\n",
        "y = tf.range(1, 5)\n",
        "print(x, \"\\n\")\n",
        "print(y, \"\\n\")\n",
        "print(tf.multiply(x, y))"
      ],
      "metadata": {
        "id": "sPjvmiv-UJps"
      },
      "execution_count": null,
      "outputs": []
    },
    {
      "cell_type": "code",
      "source": [
        "print(tf.broadcast_to(tf.constant([1, 2, 3]), [3, 3]))"
      ],
      "metadata": {
        "colab": {
          "base_uri": "https://localhost:8080/"
        },
        "id": "qYiatpXsUMsb",
        "outputId": "a4a298be-d640-4476-c6a7-e82ee068d879"
      },
      "execution_count": 51,
      "outputs": [
        {
          "output_type": "stream",
          "name": "stdout",
          "text": [
            "tf.Tensor(\n",
            "[[1 2 3]\n",
            " [1 2 3]\n",
            " [1 2 3]], shape=(3, 3), dtype=int32)\n"
          ]
        }
      ]
    },
    {
      "cell_type": "markdown",
      "source": [
        "### Sparse Tensors"
      ],
      "metadata": {
        "id": "8E3gS1IsUaNy"
      }
    },
    {
      "cell_type": "code",
      "source": [
        "sparse_tensor = tf.sparse.SparseTensor(indices=[[0, 0], [1, 2]],\n",
        "                                       values=[1, 2],\n",
        "                                       dense_shape=[3, 4])\n",
        "print(sparse_tensor, \"\\n\")\n",
        "\n",
        "# convert sparse tensors to dense\n",
        "print(tf.sparse.to_dense(sparse_tensor))"
      ],
      "metadata": {
        "colab": {
          "base_uri": "https://localhost:8080/"
        },
        "id": "kCyl1DRFUd1O",
        "outputId": "eb6d148d-0a5b-40ba-da9c-443f811dac7b"
      },
      "execution_count": 52,
      "outputs": [
        {
          "output_type": "stream",
          "name": "stdout",
          "text": [
            "SparseTensor(indices=tf.Tensor(\n",
            "[[0 0]\n",
            " [1 2]], shape=(2, 2), dtype=int64), values=tf.Tensor([1 2], shape=(2,), dtype=int32), dense_shape=tf.Tensor([3 4], shape=(2,), dtype=int64)) \n",
            "\n",
            "tf.Tensor(\n",
            "[[1 0 0 0]\n",
            " [0 0 2 0]\n",
            " [0 0 0 0]], shape=(3, 4), dtype=int32)\n"
          ]
        }
      ]
    },
    {
      "cell_type": "markdown",
      "source": [
        "### Ragged Tensors"
      ],
      "metadata": {
        "id": "ITEiK-LzUhDJ"
      }
    },
    {
      "cell_type": "code",
      "source": [
        "ragged_list = [\n",
        "    [0, 1, 2, 3],\n",
        "    [4, 5],\n",
        "    [6, 7, 8],\n",
        "    [9]]\n",
        "\n",
        "ragged_tensor = tf.ragged.constant(ragged_list)\n",
        "print(ragged_tensor)"
      ],
      "metadata": {
        "colab": {
          "base_uri": "https://localhost:8080/"
        },
        "id": "tP1MOdEDUqCM",
        "outputId": "cc795495-0cf3-43f9-932c-61019320c92e"
      },
      "execution_count": 54,
      "outputs": [
        {
          "output_type": "stream",
          "name": "stdout",
          "text": [
            "<tf.RaggedTensor [[0, 1, 2, 3], [4, 5], [6, 7, 8], [9]]>\n"
          ]
        }
      ]
    },
    {
      "cell_type": "code",
      "source": [
        "print(ragged_tensor.shape)"
      ],
      "metadata": {
        "colab": {
          "base_uri": "https://localhost:8080/"
        },
        "id": "eii8JoxCUxCs",
        "outputId": "6da50cc0-1254-4d5f-d3e7-9dcb44ea709e"
      },
      "execution_count": 55,
      "outputs": [
        {
          "output_type": "stream",
          "name": "stdout",
          "text": [
            "(4, None)\n"
          ]
        }
      ]
    },
    {
      "cell_type": "markdown",
      "source": [
        "### String Tensors"
      ],
      "metadata": {
        "id": "86rEAABZUwaD"
      }
    },
    {
      "cell_type": "code",
      "source": [
        "#scalar string tensor\n",
        "scalar_string_tensor = tf.constant(\"Gray wolf\")\n",
        "print(scalar_string_tensor)"
      ],
      "metadata": {
        "colab": {
          "base_uri": "https://localhost:8080/"
        },
        "id": "wUhfERnoU2yp",
        "outputId": "1740ec9f-cb47-45a0-c61d-e91b252acff3"
      },
      "execution_count": 56,
      "outputs": [
        {
          "output_type": "stream",
          "name": "stdout",
          "text": [
            "tf.Tensor(b'Gray wolf', shape=(), dtype=string)\n"
          ]
        }
      ]
    },
    {
      "cell_type": "code",
      "source": [
        "tensor_of_strings = tf.constant([\"Gray wolf\",\n",
        "                                 \"Quick brown fox\",\n",
        "                                 \"Lazy dog\"])\n",
        "\n",
        "print(tensor_of_strings)"
      ],
      "metadata": {
        "colab": {
          "base_uri": "https://localhost:8080/"
        },
        "id": "UYYk3mHrU6-N",
        "outputId": "9d665c91-dd03-49fb-c86b-2693e0607856"
      },
      "execution_count": 57,
      "outputs": [
        {
          "output_type": "stream",
          "name": "stdout",
          "text": [
            "tf.Tensor([b'Gray wolf' b'Quick brown fox' b'Lazy dog'], shape=(3,), dtype=string)\n"
          ]
        }
      ]
    },
    {
      "cell_type": "code",
      "source": [
        "#split a string into a set of tensors\n",
        "print(tf.strings.split(scalar_string_tensor, sep=\" \"))"
      ],
      "metadata": {
        "colab": {
          "base_uri": "https://localhost:8080/"
        },
        "id": "BUOVg2nBU9ZU",
        "outputId": "d5fa5367-aada-4c5c-9bd2-a7575e7ed5d6"
      },
      "execution_count": 58,
      "outputs": [
        {
          "output_type": "stream",
          "name": "stdout",
          "text": [
            "tf.Tensor([b'Gray' b'wolf'], shape=(2,), dtype=string)\n"
          ]
        }
      ]
    },
    {
      "cell_type": "code",
      "source": [
        "print(tf.strings.split(tensor_of_strings))"
      ],
      "metadata": {
        "colab": {
          "base_uri": "https://localhost:8080/"
        },
        "id": "WVKvtQKTVDrm",
        "outputId": "3b6d42d5-6f57-4a69-89a5-ecf0bab9e80b"
      },
      "execution_count": 59,
      "outputs": [
        {
          "output_type": "stream",
          "name": "stdout",
          "text": [
            "<tf.RaggedTensor [[b'Gray', b'wolf'], [b'Quick', b'brown', b'fox'], [b'Lazy', b'dog']]>\n"
          ]
        }
      ]
    },
    {
      "cell_type": "code",
      "source": [
        "#convert string to number\n",
        "text = tf.constant(\"1 10 100\")\n",
        "print(tf.strings.to_number(tf.strings.split(text, \" \")))"
      ],
      "metadata": {
        "colab": {
          "base_uri": "https://localhost:8080/"
        },
        "id": "SgC7cKaeVFNE",
        "outputId": "a170ae7f-6712-4c6b-d8c3-93650498a790"
      },
      "execution_count": 60,
      "outputs": [
        {
          "output_type": "stream",
          "name": "stdout",
          "text": [
            "tf.Tensor([  1.  10. 100.], shape=(3,), dtype=float32)\n"
          ]
        }
      ]
    },
    {
      "cell_type": "code",
      "source": [
        "#type casting string tensors\n",
        "byte_strings = tf.strings.bytes_split(tf.constant(\"Duck\"))\n",
        "byte_ints = tf.io.decode_raw(tf.constant(\"Duck\"), tf.uint8)\n",
        "print(\"Byte strings:\", byte_strings)\n",
        "print(\"Bytes:\", byte_ints)"
      ],
      "metadata": {
        "colab": {
          "base_uri": "https://localhost:8080/"
        },
        "id": "UXuunGVOVJNy",
        "outputId": "4c7e767c-f573-4645-853b-a76e9483c993"
      },
      "execution_count": 61,
      "outputs": [
        {
          "output_type": "stream",
          "name": "stdout",
          "text": [
            "Byte strings: tf.Tensor([b'D' b'u' b'c' b'k'], shape=(4,), dtype=string)\n",
            "Bytes: tf.Tensor([ 68 117  99 107], shape=(4,), dtype=uint8)\n"
          ]
        }
      ]
    }
  ]
}